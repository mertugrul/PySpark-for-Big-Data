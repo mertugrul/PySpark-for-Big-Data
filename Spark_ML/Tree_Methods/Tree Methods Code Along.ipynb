{
 "cells": [
  {
   "cell_type": "code",
   "execution_count": null,
   "metadata": {},
   "outputs": [],
   "source": [
    "from pyspark.sql import SparkSession\n",
    "import os\n",
    "\n",
    "data_dir = '../../data/Spark_ML/Tree_Methods/'"
   ]
  },
  {
   "cell_type": "code",
   "execution_count": null,
   "metadata": {},
   "outputs": [],
   "source": [
    "spark = SparkSession.builder.appName('tree_code_along').getOrCreate()\n",
    "\n",
    "data = spark.read.csv(os.path.join(data_dir, 'College.csv'), inferSchema=True, header=True)\n",
    "\n",
    "data.printSchema()"
   ]
  },
  {
   "cell_type": "markdown",
   "metadata": {},
   "source": [
    "## Format the data for MLlib"
   ]
  },
  {
   "cell_type": "code",
   "execution_count": null,
   "metadata": {},
   "outputs": [],
   "source": [
    "from pyspark.ml.feature import VectorAssembler\n",
    "\n",
    "col_names = ['Apps', 'Accept', 'Enroll', 'Top10perc', 'Top25perc', 'F_Undergrad', 'P_Undergrad', 'Outstate',\n",
    "             'Room_Board', 'Books', 'Personal', 'PhD', 'Terminal', 'S_F_Ratio', 'perc_alumni', 'Expend', \n",
    "             'Grad_Rate']\n",
    "\n",
    "assembler = VectorAssembler(inputCols=col_names, outputCol='features')\n",
    "\n",
    "output = assembler.transform(data)"
   ]
  },
  {
   "cell_type": "code",
   "execution_count": null,
   "metadata": {},
   "outputs": [],
   "source": [
    "from pyspark.ml.feature import StringIndexer\n",
    "\n",
    "indexer = StringIndexer(inputCol='Private', outputCol='PrivateIndex')\n",
    "\n",
    "output_fixed = indexer.fit(output).transform(output)\n",
    "\n",
    "output_fixed.printSchema()"
   ]
  },
  {
   "cell_type": "code",
   "execution_count": null,
   "metadata": {},
   "outputs": [],
   "source": [
    "final_data = output_fixed.select(['features', 'PrivateIndex'])"
   ]
  },
  {
   "cell_type": "markdown",
   "metadata": {},
   "source": [
    "## Train and Evaluate"
   ]
  },
  {
   "cell_type": "code",
   "execution_count": null,
   "metadata": {},
   "outputs": [],
   "source": [
    "from pyspark.ml.classification import DecisionTreeClassifier, GBTClassifier, RandomForestClassifier\n",
    "from pyspark.ml import Pipeline\n",
    "\n",
    "tr_data, te_data = final_data.randomSplit([0.7, 0.3])\n",
    "\n",
    "dtc = DecisionTreeClassifier(featuresCol='features', labelCol='PrivateIndex')\n",
    "rfc = RandomForestClassifier(featuresCol='features', labelCol='PrivateIndex')\n",
    "gbt = GBTClassifier(featuresCol='features', labelCol='PrivateIndex')\n",
    "\n",
    "dtc_model = dtc.fit(tr_data)\n",
    "rfc_model = rfc.fit(tr_data)\n",
    "gbt_model = gbt.fit(tr_data)\n"
   ]
  },
  {
   "cell_type": "code",
   "execution_count": null,
   "metadata": {},
   "outputs": [],
   "source": [
    "dtc_preds = dtc_model.transform(te_data)\n",
    "rfc_preds = rfc_model.transform(te_data)\n",
    "gbt_preds = gbt_model.transform(te_data)"
   ]
  },
  {
   "cell_type": "code",
   "execution_count": null,
   "metadata": {},
   "outputs": [],
   "source": [
    "from pyspark.ml.evaluation import BinaryClassificationEvaluator\n",
    "\n",
    "bin_evaluator = BinaryClassificationEvaluator(labelCol='PrivateIndex')\n",
    "bin_evaluator_gbt = BinaryClassificationEvaluator(labelCol='PrivateIndex', rawPredictionCol='prediction')\n",
    "\n",
    "print('DTC: {}'.format(bin_evaluator.evaluate(dtc_preds)))\n",
    "print('RFC: {}'.format(bin_evaluator.evaluate(rfc_preds)))\n",
    "print('GBT: {}'.format(bin_evaluator_gbt.evaluate(gbt_preds)))"
   ]
  },
  {
   "cell_type": "code",
   "execution_count": null,
   "metadata": {},
   "outputs": [],
   "source": [
    "from pyspark.ml.evaluation import MulticlassClassificationEvaluator\n",
    "\n",
    "multi_evaluator = MulticlassClassificationEvaluator(labelCol='PrivateIndex', metricName='accuracy')\n",
    "multi_evaluator_gbt = MulticlassClassificationEvaluator(labelCol='PrivateIndex', metricName='accuracy')\n",
    "\n",
    "print('DTC: {}'.format(multi_evaluator.evaluate(dtc_preds)))\n",
    "print('RFC: {}'.format(multi_evaluator.evaluate(rfc_preds)))\n",
    "print('GBT: {}'.format(multi_evaluator_gbt.evaluate(gbt_preds)))"
   ]
  },
  {
   "cell_type": "code",
   "execution_count": null,
   "metadata": {},
   "outputs": [],
   "source": [
    " "
   ]
  }
 ],
 "metadata": {
  "kernelspec": {
   "display_name": "Python 3",
   "language": "python",
   "name": "python3"
  },
  "language_info": {
   "codemirror_mode": {
    "name": "ipython",
    "version": 3
   },
   "file_extension": ".py",
   "mimetype": "text/x-python",
   "name": "python",
   "nbconvert_exporter": "python",
   "pygments_lexer": "ipython3",
   "version": "3.8.5"
  }
 },
 "nbformat": 4,
 "nbformat_minor": 4
}
