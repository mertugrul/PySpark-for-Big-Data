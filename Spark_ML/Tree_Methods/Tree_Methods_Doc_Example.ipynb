{
 "cells": [
  {
   "cell_type": "code",
   "execution_count": null,
   "metadata": {},
   "outputs": [],
   "source": [
    "from pyspark.sql import SparkSession\n",
    "import os\n",
    "\n",
    "data_dir = '../../data/Spark_ML/Tree_Methods/'"
   ]
  },
  {
   "cell_type": "code",
   "execution_count": null,
   "metadata": {},
   "outputs": [],
   "source": [
    "spark = SparkSession.builder.appName('tree_ex').getOrCreate()\n",
    "\n",
    "data = spark.read.format('libsvm').load(os.path.join(data_dir, 'sample_libsvm_data.txt'))\n",
    "\n",
    "data.printSchema()"
   ]
  },
  {
   "cell_type": "code",
   "execution_count": null,
   "metadata": {},
   "outputs": [],
   "source": [
    "from pyspark.ml import Pipeline\n",
    "from pyspark.ml.classification import RandomForestClassifier, GBTClassifier, DecisionTreeClassifier\n",
    "\n",
    "tr_data, te_data = data.randomSplit([0.7, 0.3])\n",
    "\n",
    "dtc = DecisionTreeClassifier()\n",
    "rfc = RandomForestClassifier(numTrees=100)\n",
    "gbt = GBTClassifier()\n",
    "\n",
    "dtc_model = dtc.fit(tr_data)\n",
    "rfc_model = rfc.fit(tr_data)\n",
    "gbt_model = gbt.fit(tr_data)"
   ]
  },
  {
   "cell_type": "code",
   "execution_count": null,
   "metadata": {},
   "outputs": [],
   "source": [
    "dtc_preds = dtc_model.transform(te_data)\n",
    "rfc_preds = rfc_model.transform(te_data)\n",
    "gbt_preds = gbt_model.transform(te_data)"
   ]
  },
  {
   "cell_type": "code",
   "execution_count": null,
   "metadata": {},
   "outputs": [],
   "source": [
    "dtc_preds.show()\n"
   ]
  },
  {
   "cell_type": "code",
   "execution_count": null,
   "metadata": {},
   "outputs": [],
   "source": [
    "from pyspark.ml.evaluation import BinaryClassificationEvaluator, MulticlassClassificationEvaluator\n",
    "\n",
    "acc_eval = MulticlassClassificationEvaluator(metricName='accuracy')\n",
    "\n",
    "dtc_acc = acc_eval.evaluate(dtc_preds)\n",
    "rfc_acc = acc_eval.evaluate(rfc_preds)\n",
    "gbt_acc = acc_eval.evaluate(gbt_preds)\n",
    "\n",
    "print('DTC Accuracy: {}'.format(dtc_acc))\n",
    "print('RFC Accuracy: {}'.format(rfc_acc))\n",
    "print('GBT Accuracy: {}'.format(gbt_acc))"
   ]
  },
  {
   "cell_type": "code",
   "execution_count": null,
   "metadata": {},
   "outputs": [],
   "source": [
    "## Feature Importance\n",
    "rfc_model.featureImportances"
   ]
  },
  {
   "cell_type": "code",
   "execution_count": null,
   "metadata": {},
   "outputs": [],
   "source": []
  }
 ],
 "metadata": {
  "kernelspec": {
   "display_name": "Python 3",
   "language": "python",
   "name": "python3"
  },
  "language_info": {
   "codemirror_mode": {
    "name": "ipython",
    "version": 3
   },
   "file_extension": ".py",
   "mimetype": "text/x-python",
   "name": "python",
   "nbconvert_exporter": "python",
   "pygments_lexer": "ipython3",
   "version": "3.8.5"
  }
 },
 "nbformat": 4,
 "nbformat_minor": 4
}
