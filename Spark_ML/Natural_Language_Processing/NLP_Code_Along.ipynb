{
 "cells": [
  {
   "cell_type": "code",
   "execution_count": 1,
   "metadata": {},
   "outputs": [
    {
     "name": "stdout",
     "output_type": "stream",
     "text": [
      "root\n",
      " |-- class: string (nullable = true)\n",
      " |-- text: string (nullable = true)\n",
      "\n",
      "+-----+--------------------+\n",
      "|class|                text|\n",
      "+-----+--------------------+\n",
      "|  ham|Go until jurong p...|\n",
      "|  ham|Ok lar... Joking ...|\n",
      "| spam|Free entry in 2 a...|\n",
      "|  ham|U dun say so earl...|\n",
      "|  ham|Nah I don't think...|\n",
      "| spam|FreeMsg Hey there...|\n",
      "|  ham|Even my brother i...|\n",
      "|  ham|As per your reque...|\n",
      "| spam|WINNER!! As a val...|\n",
      "| spam|Had your mobile 1...|\n",
      "|  ham|I'm gonna be home...|\n",
      "| spam|SIX chances to wi...|\n",
      "| spam|URGENT! You have ...|\n",
      "|  ham|I've been searchi...|\n",
      "|  ham|I HAVE A DATE ON ...|\n",
      "| spam|XXXMobileMovieClu...|\n",
      "|  ham|Oh k...i'm watchi...|\n",
      "|  ham|Eh u remember how...|\n",
      "|  ham|Fine if thats th...|\n",
      "| spam|England v Macedon...|\n",
      "+-----+--------------------+\n",
      "only showing top 20 rows\n",
      "\n"
     ]
    }
   ],
   "source": [
    "from pyspark.sql import SparkSession\n",
    "import os\n",
    "\n",
    "data_dir = '../../data/Spark_ML/Natural_Language_Processing/smsspamcollection/'\n",
    "\n",
    "spark = SparkSession.builder.appName('nlp').getOrCreate()\n",
    "\n",
    "data = spark.read.csv(os.path.join(data_dir, 'SMSSpamCollection'), inferSchema=True, sep='\\t')\n",
    "\n",
    "data = data.withColumnRenamed('_c0', 'class').withColumnRenamed('_c1', 'text')\n",
    "\n",
    "data.printSchema()\n",
    "\n",
    "data.show()"
   ]
  },
  {
   "cell_type": "markdown",
   "metadata": {},
   "source": [
    "## Analyze, clean and prepare data"
   ]
  },
  {
   "cell_type": "code",
   "execution_count": 2,
   "metadata": {},
   "outputs": [
    {
     "name": "stdout",
     "output_type": "stream",
     "text": [
      "+-----+--------------------+------+-------------+\n",
      "|class|                text|length|custom_length|\n",
      "+-----+--------------------+------+-------------+\n",
      "|  ham|Go until jurong p...|   111|          111|\n",
      "|  ham|Ok lar... Joking ...|    29|           29|\n",
      "| spam|Free entry in 2 a...|   155|          155|\n",
      "|  ham|U dun say so earl...|    49|           49|\n",
      "|  ham|Nah I don't think...|    61|           61|\n",
      "| spam|FreeMsg Hey there...|   147|          147|\n",
      "|  ham|Even my brother i...|    77|           77|\n",
      "|  ham|As per your reque...|   160|          160|\n",
      "| spam|WINNER!! As a val...|   157|          157|\n",
      "| spam|Had your mobile 1...|   154|          154|\n",
      "|  ham|I'm gonna be home...|   109|          109|\n",
      "| spam|SIX chances to wi...|   136|          136|\n",
      "| spam|URGENT! You have ...|   155|          155|\n",
      "|  ham|I've been searchi...|   196|          196|\n",
      "|  ham|I HAVE A DATE ON ...|    35|           35|\n",
      "| spam|XXXMobileMovieClu...|   149|          149|\n",
      "|  ham|Oh k...i'm watchi...|    26|           26|\n",
      "|  ham|Eh u remember how...|    81|           81|\n",
      "|  ham|Fine if thats th...|    56|           56|\n",
      "| spam|England v Macedon...|   155|          155|\n",
      "+-----+--------------------+------+-------------+\n",
      "only showing top 20 rows\n",
      "\n",
      "+-----+-----------------+------------------+\n",
      "|class|      avg(length)|avg(custom_length)|\n",
      "+-----+-----------------+------------------+\n",
      "|  ham|71.45431945307645| 71.45431945307645|\n",
      "| spam|138.6706827309237| 138.6706827309237|\n",
      "+-----+-----------------+------------------+\n",
      "\n"
     ]
    }
   ],
   "source": [
    "from pyspark.sql.functions import length, udf\n",
    "from pyspark.sql.types import IntegerType\n",
    "\n",
    "custom_length = udf(lambda text:len(text), IntegerType())\n",
    "\n",
    "data = data.withColumn('length', length(data['text']))\n",
    "data = data.withColumn('custom_length', custom_length(data['text']))\n",
    "\n",
    "data.show()\n",
    "\n",
    "data.groupBy('class').mean().show()"
   ]
  },
  {
   "cell_type": "markdown",
   "metadata": {},
   "source": [
    "### Feature Transformations"
   ]
  },
  {
   "cell_type": "code",
   "execution_count": 3,
   "metadata": {},
   "outputs": [],
   "source": [
    "from pyspark.ml.feature import StringIndexer, Tokenizer, StopWordsRemover, CountVectorizer, IDF\n",
    "\n",
    "label_changer = StringIndexer(inputCol='class', outputCol='label')\n",
    "tokenizer = Tokenizer(inputCol='text', outputCol='tokenized')\n",
    "sw_remover = StopWordsRemover(inputCol='tokenized', outputCol='sw_removed')\n",
    "count_vectorizer = CountVectorizer(inputCol='sw_removed', outputCol='count_vectorized')\n",
    "idf = IDF(inputCol='count_vectorized', outputCol='tf_idf')"
   ]
  },
  {
   "cell_type": "code",
   "execution_count": 4,
   "metadata": {},
   "outputs": [],
   "source": [
    "from pyspark.ml.feature import VectorAssembler\n",
    "from pyspark.ml.linalg import Vector\n",
    "\n",
    "assembler = VectorAssembler(inputCols=['tf_idf', 'length'], outputCol='features')"
   ]
  },
  {
   "cell_type": "markdown",
   "metadata": {},
   "source": [
    "### Build the data preparation pipeline"
   ]
  },
  {
   "cell_type": "code",
   "execution_count": 5,
   "metadata": {},
   "outputs": [],
   "source": [
    "from pyspark.ml import Pipeline\n",
    "\n",
    "data_pipeline = Pipeline(stages=[label_changer, tokenizer, sw_remover, count_vectorizer, idf, assembler])\n",
    "\n",
    "data_pipeline_model = data_pipeline.fit(data)\n",
    "\n",
    "clean_data = data_pipeline_model.transform(data)"
   ]
  },
  {
   "cell_type": "markdown",
   "metadata": {},
   "source": [
    "## Build the model"
   ]
  },
  {
   "cell_type": "code",
   "execution_count": 6,
   "metadata": {},
   "outputs": [],
   "source": [
    "from pyspark.ml.classification import NaiveBayes\n",
    "\n",
    "# using default parameters\n",
    "model = NaiveBayes()"
   ]
  },
  {
   "cell_type": "code",
   "execution_count": 7,
   "metadata": {},
   "outputs": [
    {
     "name": "stdout",
     "output_type": "stream",
     "text": [
      "+-----+--------------------+\n",
      "|label|            features|\n",
      "+-----+--------------------+\n",
      "|  0.0|(13424,[7,11,31,6...|\n",
      "|  0.0|(13424,[0,24,297,...|\n",
      "|  1.0|(13424,[2,13,19,3...|\n",
      "|  0.0|(13424,[0,70,80,1...|\n",
      "|  0.0|(13424,[36,134,31...|\n",
      "|  1.0|(13424,[10,60,139...|\n",
      "|  0.0|(13424,[10,53,103...|\n",
      "|  0.0|(13424,[125,184,4...|\n",
      "|  1.0|(13424,[1,47,118,...|\n",
      "|  1.0|(13424,[0,1,13,27...|\n",
      "|  0.0|(13424,[18,43,120...|\n",
      "|  1.0|(13424,[8,17,37,8...|\n",
      "|  1.0|(13424,[13,30,47,...|\n",
      "|  0.0|(13424,[39,96,217...|\n",
      "|  0.0|(13424,[552,1697,...|\n",
      "|  1.0|(13424,[30,109,11...|\n",
      "|  0.0|(13424,[82,214,47...|\n",
      "|  0.0|(13424,[0,2,49,13...|\n",
      "|  0.0|(13424,[0,74,105,...|\n",
      "|  1.0|(13424,[4,30,33,5...|\n",
      "+-----+--------------------+\n",
      "only showing top 20 rows\n",
      "\n"
     ]
    }
   ],
   "source": [
    "clean_data = clean_data.select('label', 'features')\n",
    "\n",
    "clean_data.show()"
   ]
  },
  {
   "cell_type": "code",
   "execution_count": 9,
   "metadata": {},
   "outputs": [
    {
     "name": "stdout",
     "output_type": "stream",
     "text": [
      "+-----+--------------------+--------------------+--------------------+----------+\n",
      "|label|            features|       rawPrediction|         probability|prediction|\n",
      "+-----+--------------------+--------------------+--------------------+----------+\n",
      "|  0.0|(13424,[0,1,4,50,...|[-835.11615909192...|[1.0,6.3214018485...|       0.0|\n",
      "|  0.0|(13424,[0,1,5,20,...|[-806.98794750745...|[1.0,4.5136633986...|       0.0|\n",
      "|  0.0|(13424,[0,1,7,15,...|[-662.85362239622...|[1.0,5.6374088576...|       0.0|\n",
      "|  0.0|(13424,[0,1,11,32...|[-888.24293330816...|[1.0,7.6656051068...|       0.0|\n",
      "|  0.0|(13424,[0,1,14,18...|[-1377.5735319731...|[1.0,1.0539775703...|       0.0|\n",
      "|  0.0|(13424,[0,1,20,27...|[-966.58724458074...|[1.0,1.7913128099...|       0.0|\n",
      "|  0.0|(13424,[0,1,27,88...|[-1535.9019834821...|[2.91083036064313...|       1.0|\n",
      "|  0.0|(13424,[0,1,31,43...|[-344.95873854503...|[1.0,5.9348054056...|       0.0|\n",
      "|  0.0|(13424,[0,1,874,1...|[-96.086512396046...|[0.99999997574053...|       0.0|\n",
      "|  0.0|(13424,[0,2,3,6,9...|[-3296.3147294196...|[1.0,7.6535227070...|       0.0|\n",
      "|  0.0|(13424,[0,2,4,8,2...|[-569.13732989322...|[1.0,8.2696751766...|       0.0|\n",
      "|  0.0|(13424,[0,2,4,10,...|[-1225.1299103045...|[1.0,1.2926043367...|       0.0|\n",
      "|  0.0|(13424,[0,2,4,11,...|[-1132.6582997221...|[1.0,8.9614635404...|       0.0|\n",
      "|  0.0|(13424,[0,2,4,128...|[-638.94932158176...|[1.0,1.2365964473...|       0.0|\n",
      "|  0.0|(13424,[0,2,7,11,...|[-729.58914317450...|[1.0,1.9001307932...|       0.0|\n",
      "|  0.0|(13424,[0,2,7,11,...|[-851.59612174631...|[1.0,3.6520596797...|       0.0|\n",
      "|  0.0|(13424,[0,2,7,31,...|[-667.76890148621...|[1.0,1.2361836785...|       0.0|\n",
      "|  0.0|(13424,[0,2,7,43,...|[-591.09308532001...|[1.0,1.4181916730...|       0.0|\n",
      "|  0.0|(13424,[0,2,7,95,...|[-624.27700498616...|[1.0,1.7253026864...|       0.0|\n",
      "|  0.0|(13424,[0,2,7,114...|[-458.45415765141...|[1.0,6.5091604606...|       0.0|\n",
      "+-----+--------------------+--------------------+--------------------+----------+\n",
      "only showing top 20 rows\n",
      "\n"
     ]
    }
   ],
   "source": [
    "tr_data, te_data = clean_data.randomSplit([0.7, 0.3])\n",
    "\n",
    "spam_predictor = model.fit(tr_data)\n",
    "\n",
    "te_results = spam_predictor.transform(te_data)\n",
    "\n",
    "te_results.show()"
   ]
  },
  {
   "cell_type": "markdown",
   "metadata": {},
   "source": [
    "## Evaluate the model"
   ]
  },
  {
   "cell_type": "code",
   "execution_count": 12,
   "metadata": {},
   "outputs": [
    {
     "name": "stdout",
     "output_type": "stream",
     "text": [
      "Accuracy of model at predicting spam was: 0.9180611656087709\n",
      "F-score of model at predicting spam was: 0.9247453288157873\n"
     ]
    }
   ],
   "source": [
    "from pyspark.ml.evaluation import MulticlassClassificationEvaluator\n",
    "\n",
    "multi_eval_acc = MulticlassClassificationEvaluator(metricName='accuracy')\n",
    "multi_eval_f = MulticlassClassificationEvaluator(metricName='f1')\n",
    "\n",
    "acc = multi_eval_acc.evaluate(te_results)\n",
    "f_score = multi_eval_f.evaluate(te_results)\n",
    "print(\"Accuracy of model at predicting spam was: {}\".format(acc))\n",
    "print(\"F-score of model at predicting spam was: {}\".format(f_score))"
   ]
  },
  {
   "cell_type": "code",
   "execution_count": 13,
   "metadata": {},
   "outputs": [
    {
     "name": "stdout",
     "output_type": "stream",
     "text": [
      "+-----+-----+\n",
      "|label|count|\n",
      "+-----+-----+\n",
      "|  0.0| 4827|\n",
      "|  1.0|  747|\n",
      "+-----+-----+\n",
      "\n"
     ]
    }
   ],
   "source": [
    "from pyspark.sql.functions import count\n",
    "\n",
    "clean_data.groupBy('label').count().show()"
   ]
  },
  {
   "cell_type": "code",
   "execution_count": null,
   "metadata": {},
   "outputs": [],
   "source": []
  }
 ],
 "metadata": {
  "kernelspec": {
   "display_name": "Python 3",
   "language": "python",
   "name": "python3"
  },
  "language_info": {
   "codemirror_mode": {
    "name": "ipython",
    "version": 3
   },
   "file_extension": ".py",
   "mimetype": "text/x-python",
   "name": "python",
   "nbconvert_exporter": "python",
   "pygments_lexer": "ipython3",
   "version": "3.8.5"
  }
 },
 "nbformat": 4,
 "nbformat_minor": 4
}
